{
 "cells": [
  {
   "cell_type": "markdown",
   "metadata": {},
   "source": [
    "# TP 4 : programmation dynamique"
   ]
  },
  {
   "cell_type": "markdown",
   "metadata": {},
   "source": [
    "### Récupération des données"
   ]
  },
  {
   "cell_type": "code",
   "execution_count": 1,
   "metadata": {},
   "outputs": [
    {
     "data": {
      "text/plain": [
       "readKnaptxtInstance (generic function with 1 method)"
      ]
     },
     "execution_count": 1,
     "metadata": {},
     "output_type": "execute_result"
    }
   ],
   "source": [
    "function readKnaptxtInstance(filename)\n",
    "    price=[]\n",
    "    weight=[]\n",
    "    KnapCap=[]\n",
    "    open(filename) do f\n",
    "        for i in 1:3\n",
    "            tok = split(readline(f))\n",
    "            if(tok[1] == \"ListPrices=\")\n",
    "                for i in 2:(length(tok)-1)\n",
    "                    push!(price,parse(Int64, tok[i]))\n",
    "                end\n",
    "            elseif(tok[1] == \"ListWeights=\")\n",
    "                for i in 2:(length(tok)-1)\n",
    "                    push!(weight,parse(Int64, tok[i]))\n",
    "                end\n",
    "            elseif(tok[1] == \"Capacity=\")\n",
    "                push!(KnapCap, parse(Int64, tok[2]))\n",
    "            else\n",
    "                println(\"Unknown read :\", tok)\n",
    "            end \n",
    "        end\n",
    "    end\n",
    "    capacity=KnapCap[1]\n",
    "    return price, weight, capacity\n",
    "end"
   ]
  },
  {
   "cell_type": "markdown",
   "metadata": {},
   "source": [
    "### Fonctions de création du tableau des valeurs pour la recherche, et algorithme de recherche de la solution"
   ]
  },
  {
   "cell_type": "code",
   "execution_count": 2,
   "metadata": {},
   "outputs": [
    {
     "data": {
      "text/plain": [
       "chercherSol (generic function with 1 method)"
      ]
     },
     "execution_count": 2,
     "metadata": {},
     "output_type": "execute_result"
    }
   ],
   "source": [
    "# creerTab :\n",
    "# paramètres : la liste des prix et poids des objets dans l'odre décroissant des prix \n",
    "#              la capacité maximale du sac \n",
    "# retour : le tableau des prix maximaux en fonction du poids maximal du sac et du nombre d'objets gardés\n",
    "\n",
    "function creeTab(prix, poids, capacite)\n",
    "    npx = length(prix)\n",
    "    tabC = [(0,[]) for i=1:(npx), j=1:(capacite+1)]\n",
    "    \n",
    "# tableau avec pour chaque case (i,j) le couple contenant le prix total maximum avec i objets dans le sac\n",
    "# de poids total maximum j-1 , et la liste des objets retenus dans le sac pour atteindre ce prix \n",
    "    \n",
    "# decalage de 1 par raport a la capacité dans les indices : indice j = 1 correspond au poids de 0\n",
    "\n",
    "\n",
    "    for j in 1:(capacite+1)\n",
    "        if j-1 >= poids[1]\n",
    "            (p,t) = tabC[1,j]\n",
    "            tabC[1,j] = (prix[1],[1])\n",
    "        end\n",
    "    end\n",
    "    \n",
    "    for i in 2:(npx)\n",
    "        for j in 2:(capacite+1)\n",
    "            if (j-poids[i]) > 0\n",
    "                (p1,t1) = tabC[(i-1),j]\n",
    "                (p2,t2) = tabC[(i-1),(j-poids[i])]\n",
    "                if p2 + prix[i] > p1\n",
    "                    t3 = copy(t2)\n",
    "                    t3 = push!(t3,i)\n",
    "                    tabC[i,j] = (p2 + prix[i], t3)\n",
    "                else \n",
    "                    tabC[i,j] = (p1,t1)\n",
    "                end\n",
    "            else\n",
    "                (p1,t1) = tabC[(i-1),j]\n",
    "                tabC[i,j] = (p1,t1)\n",
    "            end\n",
    "        end\n",
    "    end\n",
    "    return tabC\n",
    "end\n",
    "\n",
    "# chercherSol : \n",
    "# parametres : le tableau des prix maximaux en fonction du poids maximal du sac et du nombre d'objets gardés\n",
    "#              le nombre d'objets concidérés au départ \n",
    "#              la capacité maximale du sac \n",
    "# retour : le prix maximum possible pour la capacité maximale du sac, les indices dans l'ordre décroissant \n",
    "#          de prix des objets gardés \n",
    "\n",
    "function chercherSol(tabC, npx, capacite)\n",
    "    prixMax = 0\n",
    "    indMax = []\n",
    "    for i in 1:npx\n",
    "        (t,ind) = tabC[i,capacite+1] # on ne cherche la solution que pour un poids valant la capacité maximale\n",
    "        if t > prixMax\n",
    "            prixMax = t\n",
    "            indMax = ind\n",
    "        end\n",
    "    end\n",
    "    return prixMax, indMax\n",
    "end\n"
   ]
  },
  {
   "cell_type": "markdown",
   "metadata": {},
   "source": [
    "### Boucle principale "
   ]
  },
  {
   "cell_type": "code",
   "execution_count": 3,
   "metadata": {},
   "outputs": [
    {
     "data": {
      "text/plain": [
       "SolveKnapInstance (generic function with 1 method)"
      ]
     },
     "execution_count": 3,
     "metadata": {},
     "output_type": "execute_result"
    }
   ],
   "source": [
    "function SolveKnapInstance(filename)\n",
    "\n",
    "    if true\n",
    "        price, weight, capacity = readKnaptxtInstance(filename)\n",
    "        \n",
    "        indicesOrd = sortperm(price) \n",
    "        indicesOrd = reverse(indicesOrd)\n",
    "        \n",
    "        # on ordonne les données dans l'ordre décroissant des prix de chaque objet \n",
    "        \n",
    "        prixOrd = price[indicesOrd]\n",
    "        poidsOrd = weight[indicesOrd]\n",
    "        \n",
    "        tabValeur = creeTab(prixOrd, poidsOrd, capacity)\n",
    "        \n",
    "        #println(\"Tableau des prix en fonction des poids et du nombre d'objets ajoutés\")\n",
    "        #println(tabValeur)\n",
    "        #println()\n",
    "        \n",
    "        BestProfit, indMax = chercherSol(tabValeur, length(price), capacity)\n",
    "        \n",
    "        Bestsol = [0 for i=1:length(price)]\n",
    "        indSel = indicesOrd[indMax]\n",
    "        for k in indSel\n",
    "            Bestsol[k] = 1\n",
    "        end\n",
    "        \n",
    "        return BestProfit, Bestsol\n",
    "    end\n",
    "\n",
    "end\n"
   ]
  },
  {
   "cell_type": "markdown",
   "metadata": {},
   "source": [
    "### Affichage du résultat final\n"
   ]
  },
  {
   "cell_type": "code",
   "execution_count": 5,
   "metadata": {
    "scrolled": false
   },
   "outputs": [
    {
     "name": "stdout",
     "output_type": "stream",
     "text": [
      "\n",
      "******\n",
      "\n",
      "Optimal value = 12593\n",
      "\n",
      "Optimal x=[0, 0, 0, 0, 0, 0, 0, 0, 0, 0, 0, 0, 0, 0, 1, 0, 0, 0, 0, 0, 0, 0, 0, 0, 0, 0, 0, 0, 0, 0, 0, 0, 0, 0, 0, 0, 0, 0, 0, 0, 0, 0, 1, 0, 1, 0, 0, 0, 0, 0, 0, 0, 0, 0, 0, 0, 1, 0, 0, 0, 0, 0, 0, 0, 0, 0, 0, 0, 0, 0, 0, 0, 0, 1, 0, 0, 0, 0, 1, 0, 0, 0, 0, 0, 1, 0, 0, 0, 0, 0, 0, 0, 0, 0, 0, 0, 0, 0, 0, 0, 0, 0, 0, 0, 0, 0, 1, 0, 0, 0, 0, 0, 0, 0, 0, 0, 0, 0, 0, 0, 0, 0, 0, 0, 0, 0, 0, 0, 0, 0, 0, 0, 0, 0, 0, 0, 0, 0, 0, 0, 0, 0, 0, 0, 1, 0, 0, 1, 0, 0, 0, 0, 0, 0, 0, 0, 0, 0, 0, 0, 0, 0, 0, 0, 0, 0, 0, 0, 0, 0, 0, 0, 0, 0, 0, 0, 1, 0, 1, 0, 0, 0, 0, 0, 0, 0, 0, 0, 0, 0, 0, 1, 0, 0, 0, 0, 1, 0, 0, 0, 0, 0, 0, 0, 0, 0, 1, 0, 0, 0, 0, 1, 0, 0, 0, 0, 0, 0, 0, 0, 0, 0, 0, 0, 0, 0, 0, 1, 0, 0, 0, 0, 0, 0, 0, 0, 0, 0, 0, 0, 0, 1, 0, 0, 0, 1, 0, 0, 0, 0, 0, 0, 0, 0, 0, 0, 0, 0, 0, 0, 0, 0, 0, 1, 0, 0, 0, 1, 0, 1, 0, 0, 1, 0, 0, 0, 0, 0, 1, 0, 0, 0, 0, 0, 0, 0, 0, 0, 0, 0, 0, 0, 0, 0, 1, 0, 0, 0, 1, 0, 0, 0, 0, 1, 0, 0, 0, 0, 0, 0, 0, 0, 0, 0, 0, 0, 0, 1, 0, 0, 0, 0, 0, 0, 0, 1, 0, 0, 1, 1, 0, 0, 0, 0, 0, 0, 0, 0, 0, 0, 0, 0, 1, 0, 0, 0, 0, 0, 0, 0, 1, 1, 0, 0, 0, 0, 0, 0, 0, 0, 1, 0, 0, 0, 0, 0, 0, 0, 0, 0, 1, 0, 0, 0, 0, 0, 0, 0, 1, 0, 0, 0, 1, 0, 0, 0, 0, 0, 0, 0, 0, 0, 0, 0, 0, 0, 0, 0, 0, 0, 0, 0, 0, 0, 0, 0, 0, 0, 0, 1, 1, 1, 0, 0, 0, 0, 0, 0, 0, 1, 0, 0, 0, 0, 0, 0, 0, 0, 0, 0, 0, 0, 0, 0, 0, 0, 0, 0, 0, 0, 0, 0, 0, 1, 0, 0, 0, 1, 0, 0, 0, 0, 0, 0, 0, 0, 0, 0, 0, 0, 0, 0, 0, 1, 0, 0, 0, 0, 0, 0, 0, 0, 0, 1, 0, 0, 0, 0, 0, 0, 0, 0, 0, 1, 0, 0, 0, 0, 0, 0, 1, 0, 0, 0, 0, 0, 0, 0, 0, 0]\n"
     ]
    }
   ],
   "source": [
    "fold = \"knapPI_16_100_1000_5_-8569.opb.txt\"\n",
    "\n",
    "BestProfit, Bestsol = SolveKnapInstance(fold)\n",
    "println(\"\\n******\\n\\nOptimal value = \", BestProfit, \"\\n\\nOptimal x=\", Bestsol)"
   ]
  },
  {
   "cell_type": "code",
   "execution_count": null,
   "metadata": {},
   "outputs": [],
   "source": []
  }
 ],
 "metadata": {
  "kernelspec": {
   "display_name": "Julia 1.6.3",
   "language": "julia",
   "name": "julia-1.6"
  },
  "language_info": {
   "file_extension": ".jl",
   "mimetype": "application/julia",
   "name": "julia",
   "version": "1.6.3"
  }
 },
 "nbformat": 4,
 "nbformat_minor": 4
}
