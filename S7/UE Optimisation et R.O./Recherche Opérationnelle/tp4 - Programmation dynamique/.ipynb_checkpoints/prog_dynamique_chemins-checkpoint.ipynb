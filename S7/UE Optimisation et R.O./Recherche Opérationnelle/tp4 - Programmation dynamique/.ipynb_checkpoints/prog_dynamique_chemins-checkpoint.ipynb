{
 "cells": [
  {
   "cell_type": "markdown",
   "metadata": {},
   "source": [
    "# TP 4 : programmation dynamique"
   ]
  },
  {
   "cell_type": "markdown",
   "metadata": {},
   "source": [
    "### Fonctions de création du tableau des valeurs pour la recherche, et algorithme de recherche de la solution"
   ]
  },
  {
   "cell_type": "code",
   "execution_count": 1,
   "metadata": {},
   "outputs": [
    {
     "data": {
      "text/plain": [
       "chercherSol (generic function with 1 method)"
      ]
     },
     "execution_count": 1,
     "metadata": {},
     "output_type": "execute_result"
    }
   ],
   "source": [
    "# parametres : liste des sommets et tableau des couts > couts[i,j] est le cout du chemin de i vers j \n",
    "# retour : le tableau de longeur des chemins du sommet initial aux autres sommets en fonction\n",
    "#          du nombre de sommets à parcourir pour y arriver , et le numéro de la dernière itération effectuée \n",
    "\n",
    "function creeTab(sommets, couts)\n",
    "    nbSom = length(sommets)\n",
    "    tabC = [(Inf,0) for i=1:(nbSom+1), j=1:(nbSom)]\n",
    "    \n",
    "# tabC(k,j) = (longueur du chemin depuis le premier sommet , sommet precedent) \n",
    "# j est un sommet , et k est l'itération donc le nombre maximal de sommet que l'on peut parcourir pour aller \n",
    "# du sommet initial au sommet j \n",
    "\n",
    "    for k in 1:(nbSom+1)\n",
    "        tabC[k,1] = (0,1)\n",
    "    end\n",
    "    \n",
    "    recherche = true\n",
    "    k = 1                    # itération\n",
    "    \n",
    "    while recherche && k <= nbSom+1\n",
    "        k = k+1\n",
    "        \n",
    "        for i in 2:(nbSom)   # sommet courant\n",
    "            min = Inf        # nouvelle valeur de la longueur du chemin\n",
    "            somPrec = 0\n",
    "            for j in 1:nbSom   # cherche le minimum dans les chemins précédents existants , j = sommet précédent\n",
    "                cout = couts[j,i]\n",
    "                if cout < Inf\n",
    "                    (chem, som) = tabC[k-1,j]\n",
    "                    chemCalc = chem + couts[j,i]\n",
    "                    if chemCalc < min\n",
    "                        min = chemCalc\n",
    "                        somPrec = j\n",
    "                    end\n",
    "                end\n",
    "            end\n",
    "            tabC[k,i] = (min, somPrec)\n",
    "        end\n",
    "        \n",
    "        memeIteration = true           # l'itération k renvoie la même ligne du tableau que la ligne k-1 \n",
    "        i = 1\n",
    "        while memeIteration && i <= nbSom\n",
    "            if tabC[k,i] != tabC[k-1,i]\n",
    "                memeIteration = false\n",
    "            end\n",
    "            i = i +1\n",
    "        end\n",
    "        if memeIteration\n",
    "            recherche = false\n",
    "        end\n",
    "    end\n",
    "    return tabC, k\n",
    "end\n",
    "\n",
    "# parametres : tableau des chemins, derniere iteration, liste des sommets, \n",
    "#              sommet à atteindre (indice du sommet dans la liste des sommets)\n",
    "# retour : liste des sommets à parcourir pour aller du premier sommet au sommet à atteindre\n",
    "#          longueur du chemin parcouru \n",
    "\n",
    "\n",
    "function chercherSol(tabC, k, sommets, somFin) #dist min entre premeir et dernier et chemin \n",
    "    \n",
    "    listSom = []    # liste finale des sommets à parcourir \n",
    "    nbSom = length(sommets)\n",
    "    (longChem,somCour) = tabC[k,somFin]    # longueur totale du chemin , sommet courant \n",
    "    push!(listSom,somFin)\n",
    "    push!(listSom, somCour)\n",
    "    \n",
    "    while somCour != 1\n",
    "        (chem, somCour) = tabC[k,somCour]\n",
    "        push!(listSom, somCour)\n",
    "    end\n",
    "    listSom = reverse(listSom)\n",
    "    return listSom, longChem\n",
    "    \n",
    "end\n"
   ]
  },
  {
   "cell_type": "markdown",
   "metadata": {},
   "source": [
    "### Affichage du résultats appliqué à l'exemple de cours"
   ]
  },
  {
   "cell_type": "code",
   "execution_count": 7,
   "metadata": {},
   "outputs": [
    {
     "name": "stdout",
     "output_type": "stream",
     "text": [
      "[(0.0, 1) (Inf, 0) (Inf, 0) (Inf, 0) (Inf, 0) (Inf, 0); (0.0, 1) (3.0, 1) (Inf, 0) (Inf, 0) (5.0, 1) (Inf, 0); (0.0, 1) (3.0, 1) (7.0, 2) (14.0, 5) (5.0, 1) (Inf, 0); (0.0, 1) (3.0, 1) (7.0, 2) (9.0, 3) (5.0, 1) (17.0, 4); (0.0, 1) (3.0, 1) (7.0, 2) (9.0, 3) (5.0, 1) (12.0, 4); (0.0, 1) (3.0, 1) (7.0, 2) (9.0, 3) (5.0, 1) (12.0, 4); (0.0, 1) (Inf, 0) (Inf, 0) (Inf, 0) (Inf, 0) (Inf, 0)]\n",
      "Any[1, 2, 3, 4, 6]\n",
      "12.0\n",
      "Any[1, 5]\n",
      "5.0\n"
     ]
    }
   ],
   "source": [
    "couts = [0 3 Inf Inf 5 Inf; \n",
    "        Inf 0 4 Inf Inf Inf; \n",
    "        Inf Inf 0 2 Inf Inf; \n",
    "        Inf Inf Inf 0 Inf 3; \n",
    "        Inf -1 Inf 9 0 Inf; \n",
    "        Inf Inf Inf Inf Inf 0]\n",
    "sommets = [1 2 3 4 5 6]\n",
    "tabC, k = creeTab(sommets, couts)\n",
    "println(tabC)\n",
    "\n",
    "list , long = chercherSol(tabC, k, sommets, length(sommets))\n",
    "println(list)\n",
    "println(long)\n",
    "\n",
    "list , long = chercherSol(tabC, k, sommets, 5)\n",
    "println(list)\n",
    "println(long)\n",
    "\n"
   ]
  },
  {
   "cell_type": "code",
   "execution_count": null,
   "metadata": {},
   "outputs": [],
   "source": []
  }
 ],
 "metadata": {
  "kernelspec": {
   "display_name": "Julia 1.6.3",
   "language": "julia",
   "name": "julia-1.6"
  },
  "language_info": {
   "file_extension": ".jl",
   "mimetype": "application/julia",
   "name": "julia",
   "version": "1.6.3"
  }
 },
 "nbformat": 4,
 "nbformat_minor": 4
}
