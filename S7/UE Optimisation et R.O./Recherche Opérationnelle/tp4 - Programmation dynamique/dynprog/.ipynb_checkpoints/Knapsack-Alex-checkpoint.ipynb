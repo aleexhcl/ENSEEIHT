{
 "cells": [
  {
   "cell_type": "code",
   "execution_count": 2,
   "id": "940904ce-0c43-4e25-80e7-52a7eb7cd196",
   "metadata": {},
   "outputs": [
    {
     "data": {
      "text/plain": [
       "knapsack (generic function with 1 method)"
      ]
     },
     "metadata": {},
     "output_type": "display_data"
    }
   ],
   "source": [
    "function knapsack(prices, weights, capacity)\n",
    "    n = length(prices)\n",
    "    values = Array{Float64}(undef, n + 1, capacity + 1)\n",
    "    values[:, 1] .= 0\n",
    "    values[1, :] .= 0\n",
    "    for i in 1:n, j in 1:capacity\n",
    "        p = prices[i]\n",
    "        w = weights[i]\n",
    "        values[i + 1, j + 1] = j >= w ? max(values[i, j + 1], values[i, j - w + 1] + p) : values[i, j + 1]\n",
    "    end\n",
    "    return values\n",
    "end"
   ]
  },
  {
   "cell_type": "code",
   "execution_count": 5,
   "id": "ce26e5e2",
   "metadata": {},
   "outputs": [
    {
     "data": {
      "text/plain": [
       "knapsack (generic function with 1 method)"
      ]
     },
     "metadata": {},
     "output_type": "display_data"
    }
   ],
   "source": [
    "function knapsack(prices, weights, capacity)\n",
    "    values = Array{Float64}(undef, 2, capacity + 1)\n",
    "    values[1, :] .= 0\n",
    "    values[2, 1] = 0\n",
    "    indexCurIter = 1\n",
    "    for i in eachindex(prices)\n",
    "        indexPrevIter = indexCurIter\n",
    "        indexCurIter = (i % 2) + 1\n",
    "        for j in 1:capacity\n",
    "            p = prices[i]\n",
    "            w = weights[i]\n",
    "            values[indexCurIter, j + 1] = j >= w ? max(values[indexPrevIter, j + 1], values[indexPrevIter, j - w + 1] + p) : values[indexPrevIter, j + 1]\n",
    "        end\n",
    "    end\n",
    "    return values, values[indexCurIter,end]\n",
    "end"
   ]
  },
  {
   "cell_type": "code",
   "execution_count": 6,
   "id": "3fc9ece4-c518-4c44-a44d-6291687d1ed3",
   "metadata": {},
   "outputs": [
    {
     "data": {
      "text/plain": [
       "main (generic function with 1 method)"
      ]
     },
     "metadata": {},
     "output_type": "display_data"
    }
   ],
   "source": [
    "function main()\n",
    "    weights = [2, 5, 7, 12, 9]\n",
    "    prices = [1, 2, 3, 7, 10]\n",
    "    capacity = 15\n",
    "    knapsack(prices, weights, capacity)\n",
    "end"
   ]
  },
  {
   "cell_type": "code",
   "execution_count": 9,
   "id": "0930aa09",
   "metadata": {},
   "outputs": [
    {
     "name": "stdout",
     "output_type": "stream",
     "text": [
      "index final iteration : 2\n"
     ]
    },
    {
     "data": {
      "text/plain": [
       "([0.0 0.0 … 8.0 8.0; 0.0 0.0 … 12.0 12.0], 12.0)"
      ]
     },
     "metadata": {},
     "output_type": "display_data"
    }
   ],
   "source": [
    "main()"
   ]
  }
 ],
 "metadata": {
  "kernelspec": {
   "display_name": "Julia 1.6.3",
   "language": "julia",
   "name": "julia-1.6"
  },
  "language_info": {
   "file_extension": ".jl",
   "mimetype": "application/julia",
   "name": "julia",
   "version": "1.7.0"
  }
 },
 "nbformat": 4,
 "nbformat_minor": 5
}
