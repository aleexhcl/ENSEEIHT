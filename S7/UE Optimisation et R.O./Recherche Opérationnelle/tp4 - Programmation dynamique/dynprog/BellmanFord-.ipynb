{
 "cells": [
  {
   "cell_type": "code",
   "execution_count": 1,
   "id": "e66b16b2",
   "metadata": {},
   "outputs": [],
   "source": [
    "struct Route\n",
    "    cost::Float64\n",
    "    indexPredecessor::Int64\n",
    "end"
   ]
  },
  {
   "cell_type": "code",
   "execution_count": 2,
   "id": "faf340b2",
   "metadata": {},
   "outputs": [],
   "source": [
    "struct Edge\n",
    "    source::Int64\n",
    "    destination::Int64\n",
    "    cost::Float64\n",
    "end"
   ]
  },
  {
   "cell_type": "code",
   "execution_count": 3,
   "id": "f863459d",
   "metadata": {},
   "outputs": [],
   "source": [
    "struct Graph\n",
    "    vertices::Array{String, 1}\n",
    "    edges::Array{Edge, 1}\n",
    "    adjacencyMatrix::Array{Float64, 2}\n",
    "end"
   ]
  },
  {
   "cell_type": "code",
   "execution_count": 4,
   "id": "e55c8e61",
   "metadata": {},
   "outputs": [],
   "source": [
    "struct Path\n",
    "    cost::Float64\n",
    "    nodes::Array{String, 1}\n",
    "end"
   ]
  },
  {
   "cell_type": "code",
   "execution_count": 5,
   "id": "79db0d45",
   "metadata": {},
   "outputs": [
    {
     "data": {
      "text/plain": [
       "incidenceLists (generic function with 1 method)"
      ]
     },
     "execution_count": 5,
     "metadata": {},
     "output_type": "execute_result"
    }
   ],
   "source": [
    "function incidenceLists(graph)\n",
    "    iLists = [Edge[] for _ in graph.vertices]\n",
    "    if !isempty(graph.edges)\n",
    "        for edge in graph.edges\n",
    "            push!(iLists[edge.destination], edge)\n",
    "        end\n",
    "    else\n",
    "        nv = length(graph.vertices)\n",
    "        for j in 1:nv, i in 1:nv\n",
    "            cost = graph.adjacencyMatrix[i, j]\n",
    "            if cost != 0 && cost != Inf\n",
    "                push!(iLists[j], Edge(i, j, cost))\n",
    "            end\n",
    "        end\n",
    "    end\n",
    "    return iLists\n",
    "end"
   ]
  },
  {
   "cell_type": "code",
   "execution_count": 6,
   "id": "c72f0b00",
   "metadata": {},
   "outputs": [
    {
     "data": {
      "text/plain": [
       "computeRoutes (generic function with 1 method)"
      ]
     },
     "execution_count": 6,
     "metadata": {},
     "output_type": "execute_result"
    }
   ],
   "source": [
    "function computeRoutes(graph, startIndex)\n",
    "    nv = length(graph.vertices)\n",
    "    routes = Array{Route}(undef, nv, 2)\n",
    "    for i in eachindex(routes)\n",
    "        routes[i] = Route(Inf, 0)\n",
    "    end\n",
    "    indexCurrentIteration = 1\n",
    "    routes[startIndex, indexCurrentIteration] = Route(0., 0)\n",
    "    sparseGraph = !isempty(graph.edges)\n",
    "    iLists = Vector{Vector{Edge}}[]\n",
    "    if sparseGraph\n",
    "        iLists = Vector{Vector{Edge}}(undef, nv)\n",
    "        copy!(iLists, incidenceLists(graph))\n",
    "    end\n",
    "    cost, indexPredecessor = 0., 0\n",
    "    for iteration in 1:nv\n",
    "        indexPreviousIteration = indexCurrentIteration\n",
    "        indexCurrentIteration = (iteration % 2) + 1\n",
    "        routesPredecessors = view(routes, :,indexPreviousIteration)\n",
    "        if sparseGraph\n",
    "            for j in 1:nv\n",
    "                incidentEdges = iLists[j]\n",
    "                # Minimum sur les potentiel sommets incidents au sommet courant\n",
    "                costViaPredecessor, indexEdgePredecessor = !isempty(incidentEdges) ? findmin(routesPredecessors[edge.source].cost + edge.cost for edge in incidentEdges) : (Inf, 0)\n",
    "                improvement = costViaPredecessor < routes[j, indexPreviousIteration].cost\n",
    "                if improvement\n",
    "                    iteration == nv ? throw(ArgumentError(\"Negative cycle detected\")) : Nothing\n",
    "                    cost = costViaPredecessor\n",
    "                    indexPredecessor = incidentEdges[indexEdgePredecessor].source\n",
    "                else\n",
    "                    cost = routes[j, indexPreviousIteration].cost\n",
    "                    indexPredecessor = routes[j, indexPreviousIteration].indexPredecessor\n",
    "                end\n",
    "                routes[j, indexCurrentIteration] = Route(cost, indexPredecessor)\n",
    "\n",
    "            end\n",
    "        else\n",
    "            for j in 1:nv\n",
    "                # Minimum sur tous les sommets du graphe\n",
    "                costViaPredecessor, indexPred = findmin(routesPredecessors[i].cost + graph.adjacencyMatrix[i, j] for i in 1:nv)\n",
    "                improvement = costViaPredecessor < routesPredecessors[j].cost\n",
    "                (iteration == nv && improvement) ? throw(ArgumentError(\"Negative cycle detected\")) : Nothing\n",
    "                indexPredecessor = improvement ? indexPred : routesPredecessors[j].indexPredecessor\n",
    "                routes[j, indexCurrentIteration] = Route(costViaPredecessor, indexPredecessor)\n",
    "            end\n",
    "        end\n",
    "    end\n",
    "\n",
    "    return deepcopy(routes[:, indexCurrentIteration])\n",
    "end"
   ]
  },
  {
   "cell_type": "code",
   "execution_count": 7,
   "id": "81f534f3",
   "metadata": {},
   "outputs": [
    {
     "data": {
      "text/plain": [
       "computePath (generic function with 1 method)"
      ]
     },
     "execution_count": 7,
     "metadata": {},
     "output_type": "execute_result"
    }
   ],
   "source": [
    "function computePath(graph, routes, destinationIndex)\n",
    "    nodes = [graph.vertices[destinationIndex]]\n",
    "    path = Path(routes[destinationIndex].cost, nodes)\n",
    "    if path.cost < Inf\n",
    "        index = routes[destinationIndex].indexPredecessor\n",
    "        while index != 0\n",
    "            pushfirst!(nodes, graph.vertices[index])\n",
    "            index = routes[index].indexPredecessor\n",
    "        end\n",
    "    else\n",
    "        pop!(nodes)\n",
    "    end\n",
    "    return path\n",
    "end"
   ]
  },
  {
   "cell_type": "code",
   "execution_count": 8,
   "id": "8313893b",
   "metadata": {},
   "outputs": [
    {
     "data": {
      "text/plain": [
       "BellmanFord (generic function with 1 method)"
      ]
     },
     "execution_count": 8,
     "metadata": {},
     "output_type": "execute_result"
    }
   ],
   "source": [
    "function BellmanFord(graph, startIndex)\n",
    "    nv = length(graph.vertices)\n",
    "    paths = Array{Path}(undef, nv)\n",
    "    routes = computeRoutes(graph, startIndex)\n",
    "    for destinationIndex in 1:nv\n",
    "        paths[destinationIndex] = computePath(graph, routes, destinationIndex)\n",
    "    end\n",
    "    return paths\n",
    "end"
   ]
  },
  {
   "cell_type": "code",
   "execution_count": 9,
   "id": "0c6005bd",
   "metadata": {},
   "outputs": [
    {
     "data": {
      "text/plain": [
       "main (generic function with 1 method)"
      ]
     },
     "execution_count": 9,
     "metadata": {},
     "output_type": "execute_result"
    }
   ],
   "source": [
    "function main(origin)\n",
    "    vertices = [\"A\", \"B\", \"C\", \"D\", \"E\", \"F\"]\n",
    "    adjacency = [0 3. Inf Inf 5. Inf;\n",
    "            Inf 0 4. Inf Inf Inf;\n",
    "            Inf Inf 0 2. Inf Inf;\n",
    "            Inf Inf Inf 0 Inf 3.;\n",
    "            Inf (-1.) Inf 9. 0 Inf;\n",
    "            Inf Inf Inf Inf Inf 0]\n",
    "    edges = [Edge(4, 6, 3), Edge(5, 4, 9), Edge(3, 4, 2), Edge(1, 5, 5), Edge(1, 2, 3), Edge(2, 3, 4), Edge(5, 2, -1)]\n",
    "    #graph = Graph(vertices, [], adjacency) # dense graph\n",
    "    graph = Graph(vertices, edges, adjacency) # sparse graph\n",
    "    #graph = Graph(vertices, edges, [0;;]) # sparse graph\n",
    "    BellmanFord(graph, origin)\n",
    "end"
   ]
  },
  {
   "cell_type": "code",
   "execution_count": 10,
   "id": "4715fee2",
   "metadata": {},
   "outputs": [
    {
     "ename": "LoadError",
     "evalue": "MethodError: no method matching keys(::Base.Generator{Vector{Edge}, var\"#3#5\"{SubArray{Route, 1, Matrix{Route}, Tuple{Base.Slice{Base.OneTo{Int64}}, Int64}, true}}})\n\u001b[0mClosest candidates are:\n\u001b[0m  keys(\u001b[91m::Test.GenericArray\u001b[39m) at /Users/julia/buildbot/worker/package_macos64/build/usr/share/julia/stdlib/v1.6/Test/src/Test.jl:1686\n\u001b[0m  keys(\u001b[91m::IndexStyle\u001b[39m, \u001b[91m::AbstractArray\u001b[39m, \u001b[91m::AbstractArray...\u001b[39m) at abstractarray.jl:327\n\u001b[0m  keys(\u001b[91m::IOContext\u001b[39m) at show.jl:344\n\u001b[0m  ...",
     "output_type": "error",
     "traceback": [
      "MethodError: no method matching keys(::Base.Generator{Vector{Edge}, var\"#3#5\"{SubArray{Route, 1, Matrix{Route}, Tuple{Base.Slice{Base.OneTo{Int64}}, Int64}, true}}})\n\u001b[0mClosest candidates are:\n\u001b[0m  keys(\u001b[91m::Test.GenericArray\u001b[39m) at /Users/julia/buildbot/worker/package_macos64/build/usr/share/julia/stdlib/v1.6/Test/src/Test.jl:1686\n\u001b[0m  keys(\u001b[91m::IndexStyle\u001b[39m, \u001b[91m::AbstractArray\u001b[39m, \u001b[91m::AbstractArray...\u001b[39m) at abstractarray.jl:327\n\u001b[0m  keys(\u001b[91m::IOContext\u001b[39m) at show.jl:344\n\u001b[0m  ...",
      "",
      "Stacktrace:",
      " [1] pairs(collection::Base.Generator{Vector{Edge}, var\"#3#5\"{SubArray{Route, 1, Matrix{Route}, Tuple{Base.Slice{Base.OneTo{Int64}}, Int64}, true}}})",
      "   @ Base ./abstractdict.jl:138",
      " [2] _findmin(a::Base.Generator{Vector{Edge}, var\"#3#5\"{SubArray{Route, 1, Matrix{Route}, Tuple{Base.Slice{Base.OneTo{Int64}}, Int64}, true}}}, #unused#::Colon)",
      "   @ Base ./array.jl:2288",
      " [3] findmin(a::Base.Generator{Vector{Edge}, var\"#3#5\"{SubArray{Route, 1, Matrix{Route}, Tuple{Base.Slice{Base.OneTo{Int64}}, Int64}, true}}})",
      "   @ Base ./array.jl:2285",
      " [4] computeRoutes(graph::Graph, startIndex::Int64)",
      "   @ Main ./In[6]:24",
      " [5] BellmanFord(graph::Graph, startIndex::Int64)",
      "   @ Main ./In[8]:4",
      " [6] main(origin::Int64)",
      "   @ Main ./In[9]:13",
      " [7] top-level scope",
      "   @ In[10]:1",
      " [8] eval",
      "   @ ./boot.jl:360 [inlined]",
      " [9] include_string(mapexpr::typeof(REPL.softscope), mod::Module, code::String, filename::String)",
      "   @ Base ./loading.jl:1116"
     ]
    }
   ],
   "source": [
    "main(1)"
   ]
  },
  {
   "cell_type": "code",
   "execution_count": 11,
   "id": "1a1c96b6",
   "metadata": {},
   "outputs": [
    {
     "data": {
      "text/plain": [
       "nmain (generic function with 1 method)"
      ]
     },
     "execution_count": 11,
     "metadata": {},
     "output_type": "execute_result"
    }
   ],
   "source": [
    "# Negative cycle (A->B->C)\n",
    "function nmain(origin)\n",
    "    vertices = [\"A\", \"B\", \"C\", \"D\"]\n",
    "    adjacency = [0 1 Inf Inf;\n",
    "                Inf 0 2 1;\n",
    "                (-4) Inf Inf 3;\n",
    "                Inf Inf Inf 0]\n",
    "\n",
    "    edges = [Edge(1, 2, 1), Edge(2, 3, 2), Edge(3, 1, -4), Edge(3, 4, 3), Edge(2, 4, 1)]\n",
    "    graph = Graph(vertices, [], adjacency) # dense graph\n",
    "    #graph = Graph(vertices, edges, adjacency) # sparse graph\n",
    "    #graph = Graph(vertices, edges, [0;;]) # sparse graph\n",
    "    BellmanFord(graph, origin)\n",
    "end"
   ]
  },
  {
   "cell_type": "code",
   "execution_count": 12,
   "id": "2c296e03",
   "metadata": {},
   "outputs": [
    {
     "ename": "LoadError",
     "evalue": "MethodError: no method matching keys(::Base.Generator{UnitRange{Int64}, var\"#4#6\"{Graph, SubArray{Route, 1, Matrix{Route}, Tuple{Base.Slice{Base.OneTo{Int64}}, Int64}, true}, Int64}})\n\u001b[0mClosest candidates are:\n\u001b[0m  keys(\u001b[91m::Test.GenericArray\u001b[39m) at /Users/julia/buildbot/worker/package_macos64/build/usr/share/julia/stdlib/v1.6/Test/src/Test.jl:1686\n\u001b[0m  keys(\u001b[91m::IndexStyle\u001b[39m, \u001b[91m::AbstractArray\u001b[39m, \u001b[91m::AbstractArray...\u001b[39m) at abstractarray.jl:327\n\u001b[0m  keys(\u001b[91m::IOContext\u001b[39m) at show.jl:344\n\u001b[0m  ...",
     "output_type": "error",
     "traceback": [
      "MethodError: no method matching keys(::Base.Generator{UnitRange{Int64}, var\"#4#6\"{Graph, SubArray{Route, 1, Matrix{Route}, Tuple{Base.Slice{Base.OneTo{Int64}}, Int64}, true}, Int64}})\n\u001b[0mClosest candidates are:\n\u001b[0m  keys(\u001b[91m::Test.GenericArray\u001b[39m) at /Users/julia/buildbot/worker/package_macos64/build/usr/share/julia/stdlib/v1.6/Test/src/Test.jl:1686\n\u001b[0m  keys(\u001b[91m::IndexStyle\u001b[39m, \u001b[91m::AbstractArray\u001b[39m, \u001b[91m::AbstractArray...\u001b[39m) at abstractarray.jl:327\n\u001b[0m  keys(\u001b[91m::IOContext\u001b[39m) at show.jl:344\n\u001b[0m  ...",
      "",
      "Stacktrace:",
      " [1] pairs(collection::Base.Generator{UnitRange{Int64}, var\"#4#6\"{Graph, SubArray{Route, 1, Matrix{Route}, Tuple{Base.Slice{Base.OneTo{Int64}}, Int64}, true}, Int64}})",
      "   @ Base ./abstractdict.jl:138",
      " [2] _findmin(a::Base.Generator{UnitRange{Int64}, var\"#4#6\"{Graph, SubArray{Route, 1, Matrix{Route}, Tuple{Base.Slice{Base.OneTo{Int64}}, Int64}, true}, Int64}}, #unused#::Colon)",
      "   @ Base ./array.jl:2288",
      " [3] findmin(a::Base.Generator{UnitRange{Int64}, var\"#4#6\"{Graph, SubArray{Route, 1, Matrix{Route}, Tuple{Base.Slice{Base.OneTo{Int64}}, Int64}, true}, Int64}})",
      "   @ Base ./array.jl:2285",
      " [4] computeRoutes(graph::Graph, startIndex::Int64)",
      "   @ Main ./In[6]:40",
      " [5] BellmanFord(graph::Graph, startIndex::Int64)",
      "   @ Main ./In[8]:4",
      " [6] nmain(origin::Int64)",
      "   @ Main ./In[11]:13",
      " [7] top-level scope",
      "   @ In[12]:1",
      " [8] eval",
      "   @ ./boot.jl:360 [inlined]",
      " [9] include_string(mapexpr::typeof(REPL.softscope), mod::Module, code::String, filename::String)",
      "   @ Base ./loading.jl:1116"
     ]
    }
   ],
   "source": [
    "nmain(1)"
   ]
  },
  {
   "cell_type": "code",
   "execution_count": 13,
   "id": "5d684759",
   "metadata": {},
   "outputs": [
    {
     "data": {
      "text/plain": [
       "main (generic function with 2 methods)"
      ]
     },
     "execution_count": 13,
     "metadata": {},
     "output_type": "execute_result"
    }
   ],
   "source": [
    "function main()\n",
    "    vertices = [\"A\", \"B\", \"C\", \"D\", \"E\", \"F\"]\n",
    "    adjacency = [0 3. Inf Inf 5. Inf;\n",
    "            Inf 0 4. Inf Inf Inf;\n",
    "            Inf Inf 0 2. Inf Inf;\n",
    "            Inf Inf Inf 0 Inf 3.;\n",
    "            Inf (-1.) Inf 9. 0 Inf;\n",
    "            Inf Inf Inf Inf Inf 0]\n",
    "    #edges = [Edge(4, 6, 3), Edge(5, 4, 9), Edge(3, 4, 2), Edge(1, 5, 5), Edge(1, 2, 3), Edge(2, 3, 4), Edge(5, 2, -1)]\n",
    "    graph = Graph(vertices, [], adjacency) # dense graph\n",
    "    #graph = Graph(vertices, edges, adjacency) # sparse graph\n",
    "    #graph = Graph(vertices, edges, [0;;]) # sparse graph\n",
    "    FloydWarshall(graph)\n",
    "end"
   ]
  },
  {
   "cell_type": "code",
   "execution_count": 14,
   "id": "698956b4",
   "metadata": {},
   "outputs": [
    {
     "data": {
      "text/plain": [
       "FloydWarshall (generic function with 1 method)"
      ]
     },
     "execution_count": 14,
     "metadata": {},
     "output_type": "execute_result"
    }
   ],
   "source": [
    "function FloydWarshall(graph)\n",
    "    nv = length(graph.vertices)\n",
    "    costs = Array{Float64}(undef, nv, nv, 2)\n",
    "    paths = Array{Array{String, 1}}(undef, nv, nv, 2)\n",
    "    baseIndex = 0\n",
    "    indexCurrentIteration = baseIndex + 1\n",
    "    costs[:, :, indexCurrentIteration] .= graph.adjacencyMatrix\n",
    "    for i in eachindex(paths)\n",
    "        paths[i] = []\n",
    "    end\n",
    "    for j in 1:nv, i in 1:nv\n",
    "        if graph.adjacencyMatrix[i, j] < Inf\n",
    "            source = graph.vertices[i]\n",
    "            destination = graph.vertices[j]\n",
    "            paths[i, j, indexCurrentIteration] = source != destination ? [source, destination] : [source]\n",
    "        end\n",
    "    end\n",
    "    for _ in 1:nv\n",
    "        indexPreviousIteration = indexCurrentIteration\n",
    "        baseIndex = (baseIndex + 1) % 2\n",
    "        indexCurrentIteration = baseIndex + 1\n",
    "        for j in 1:nv, i in 1:nv\n",
    "            costs[i, j, indexCurrentIteration], kMin = findmin(costs[i, k, indexPreviousIteration] + costs[k, j, indexPreviousIteration] for k in 1:nv)\n",
    "            leftPath = deepcopy(paths[i, kMin, indexPreviousIteration])\n",
    "            rightPath = deepcopy(paths[kMin, j, indexPreviousIteration])\n",
    "            !isempty(leftPath) ? pop!(leftPath) : Nothing\n",
    "            paths[i, j, indexCurrentIteration] = vcat(leftPath, rightPath)\n",
    "        end\n",
    "    end\n",
    "    return deepcopy(costs[:, :, indexCurrentIteration]), deepcopy(paths[:, :, indexCurrentIteration])\n",
    "    return\n",
    "end"
   ]
  },
  {
   "cell_type": "code",
   "execution_count": 15,
   "id": "d8f5f684",
   "metadata": {},
   "outputs": [
    {
     "data": {
      "text/plain": [
       "main (generic function with 2 methods)"
      ]
     },
     "execution_count": 15,
     "metadata": {},
     "output_type": "execute_result"
    }
   ],
   "source": [
    "function main()\n",
    "    vertices = [\"A\", \"B\", \"C\", \"D\"]\n",
    "    adjacency = [0 Inf (-2) Inf;\n",
    "                4 0 3 Inf;\n",
    "                Inf Inf 0 2;\n",
    "                Inf (-1) Inf 0]\n",
    "    #edges = [Edge(4, 6, 3), Edge(5, 4, 9), Edge(3, 4, 2), Edge(1, 5, 5), Edge(1, 2, 3), Edge(2, 3, 4), Edge(5, 2, -1)]\n",
    "    graph = Graph(vertices, [], adjacency) # dense graph\n",
    "    #graph = Graph(vertices, edges, adjacency) # sparse graph\n",
    "    #graph = Graph(vertices, edges, [0;;]) # sparse graph\n",
    "    FloydWarshall(graph)\n",
    "end"
   ]
  },
  {
   "cell_type": "code",
   "execution_count": 16,
   "id": "21d60428",
   "metadata": {},
   "outputs": [
    {
     "ename": "LoadError",
     "evalue": "MethodError: no method matching keys(::Base.Generator{UnitRange{Int64}, var\"#7#8\"{Array{Float64, 3}, Int64, Int64, Int64}})\n\u001b[0mClosest candidates are:\n\u001b[0m  keys(\u001b[91m::Test.GenericArray\u001b[39m) at /Users/julia/buildbot/worker/package_macos64/build/usr/share/julia/stdlib/v1.6/Test/src/Test.jl:1686\n\u001b[0m  keys(\u001b[91m::IndexStyle\u001b[39m, \u001b[91m::AbstractArray\u001b[39m, \u001b[91m::AbstractArray...\u001b[39m) at abstractarray.jl:327\n\u001b[0m  keys(\u001b[91m::IOContext\u001b[39m) at show.jl:344\n\u001b[0m  ...",
     "output_type": "error",
     "traceback": [
      "MethodError: no method matching keys(::Base.Generator{UnitRange{Int64}, var\"#7#8\"{Array{Float64, 3}, Int64, Int64, Int64}})\n\u001b[0mClosest candidates are:\n\u001b[0m  keys(\u001b[91m::Test.GenericArray\u001b[39m) at /Users/julia/buildbot/worker/package_macos64/build/usr/share/julia/stdlib/v1.6/Test/src/Test.jl:1686\n\u001b[0m  keys(\u001b[91m::IndexStyle\u001b[39m, \u001b[91m::AbstractArray\u001b[39m, \u001b[91m::AbstractArray...\u001b[39m) at abstractarray.jl:327\n\u001b[0m  keys(\u001b[91m::IOContext\u001b[39m) at show.jl:344\n\u001b[0m  ...",
      "",
      "Stacktrace:",
      " [1] pairs(collection::Base.Generator{UnitRange{Int64}, var\"#7#8\"{Array{Float64, 3}, Int64, Int64, Int64}})",
      "   @ Base ./abstractdict.jl:138",
      " [2] _findmin(a::Base.Generator{UnitRange{Int64}, var\"#7#8\"{Array{Float64, 3}, Int64, Int64, Int64}}, #unused#::Colon)",
      "   @ Base ./array.jl:2288",
      " [3] findmin(a::Base.Generator{UnitRange{Int64}, var\"#7#8\"{Array{Float64, 3}, Int64, Int64, Int64}})",
      "   @ Base ./array.jl:2285",
      " [4] FloydWarshall(graph::Graph)",
      "   @ Main ./In[14]:23",
      " [5] main()",
      "   @ Main ./In[15]:11",
      " [6] top-level scope",
      "   @ In[16]:1",
      " [7] eval",
      "   @ ./boot.jl:360 [inlined]",
      " [8] include_string(mapexpr::typeof(REPL.softscope), mod::Module, code::String, filename::String)",
      "   @ Base ./loading.jl:1116"
     ]
    }
   ],
   "source": [
    "main()"
   ]
  },
  {
   "cell_type": "code",
   "execution_count": null,
   "id": "30517fd3",
   "metadata": {},
   "outputs": [],
   "source": []
  }
 ],
 "metadata": {
  "kernelspec": {
   "display_name": "Julia 1.6.3",
   "language": "julia",
   "name": "julia-1.6"
  },
  "language_info": {
   "file_extension": ".jl",
   "mimetype": "application/julia",
   "name": "julia",
   "version": "1.6.3"
  }
 },
 "nbformat": 4,
 "nbformat_minor": 5
}
