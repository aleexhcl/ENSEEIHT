{
 "cells": [
  {
   "cell_type": "markdown",
   "metadata": {},
   "source": [
    "![n7](http://cots.perso.enseeiht.fr/figures/inp-enseeiht.png)\n",
    "\n",
    "# An empty notebook to play with"
   ]
  },
  {
   "cell_type": "markdown",
   "metadata": {},
   "source": [
    "## Direct method"
   ]
  },
  {
   "cell_type": "code",
   "execution_count": 1,
   "metadata": {},
   "outputs": [],
   "source": [
    "# For direct methods\n",
    "using JuMP, Ipopt\n",
    "# To plot solutions\n",
    "using Plots"
   ]
  },
  {
   "cell_type": "markdown",
   "metadata": {},
   "source": [
    "## Indirect method"
   ]
  },
  {
   "cell_type": "code",
   "execution_count": 2,
   "metadata": {},
   "outputs": [],
   "source": [
    "# For indirect methods\n",
    "using DifferentialEquations, NLsolve, ForwardDiff"
   ]
  },
  {
   "cell_type": "code",
   "execution_count": 3,
   "metadata": {},
   "outputs": [],
   "source": [
    "# Function to get the flow of a Hamiltonian system\n",
    "function Flow(hv)\n",
    "\n",
    "    function rhs!(dz, z, dummy, t)\n",
    "        n = size(z, 1)÷2\n",
    "        dz[:] = hv(z[1:n], z[n+1:2*n])\n",
    "    end\n",
    "    \n",
    "    function f(tspan, x0, p0; abstol=1e-12, reltol=1e-12, saveat=0.01)\n",
    "        z0 = [ x0 ; p0 ]\n",
    "        ode = ODEProblem(rhs!, z0, tspan)\n",
    "        sol = DifferentialEquations.solve(ode, Tsit5(), abstol=abstol, reltol=reltol, saveat=saveat)\n",
    "        return sol\n",
    "    end\n",
    "    \n",
    "    function f(t0, x0, p0, tf; abstol=1e-12, reltol=1e-12, saveat=[])\n",
    "        sol = f((t0, tf), x0, p0, abstol=abstol, reltol=reltol, saveat=saveat)\n",
    "        n = size(x0, 1)\n",
    "        return sol[1:n, end], sol[n+1:2*n, end]\n",
    "    end\n",
    "    \n",
    "    return f\n",
    "\n",
    "end;"
   ]
  },
  {
   "cell_type": "code",
   "execution_count": null,
   "metadata": {},
   "outputs": [],
   "source": []
  }
 ],
 "metadata": {
  "kernelspec": {
   "display_name": "Julia 1.6.3",
   "language": "julia",
   "name": "julia-1.6"
  },
  "language_info": {
   "file_extension": ".jl",
   "mimetype": "application/julia",
   "name": "julia",
   "version": "1.6.3"
  }
 },
 "nbformat": 4,
 "nbformat_minor": 4
}
